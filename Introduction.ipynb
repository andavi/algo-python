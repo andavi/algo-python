{
 "cells": [
  {
   "cell_type": "code",
   "execution_count": 42,
   "metadata": {},
   "outputs": [
    {
     "data": {
      "text/plain": [
       "699678"
      ]
     },
     "execution_count": 42,
     "metadata": {},
     "output_type": "execute_result"
    }
   ],
   "source": [
    "def recIntMult(x, y):\n",
    "    x = str(x)\n",
    "    y = str(y)\n",
    "    \n",
    "    if len(x) == 1 and len(y) == 1:\n",
    "        return int(x) * int(y)\n",
    "    \n",
    "    if len(x) < len(y):\n",
    "        x = (len(y)-len(x))*'0' + x\n",
    "    elif len(y) < len(x):\n",
    "        y = (len(x)-len(y))*'0' + y\n",
    "        \n",
    "    n = len(x)\n",
    "    n2 = n // 2\n",
    "        \n",
    "    if len(x) % 2 == 1:\n",
    "        n2 += 1\n",
    "    \n",
    "    a = int(x[:n2])\n",
    "    b = int(x[n2:])\n",
    "    c = int(y[:n2])\n",
    "    d = int(y[n2:])\n",
    "    \n",
    "    ac = recIntMult(a, c)\n",
    "    ad = recIntMult(a, d)\n",
    "    bc = recIntMult(b, c)\n",
    "    bd = recIntMult(b, d)\n",
    "    \n",
    "    return int(str(ac)+'0'*(n)) + int(str(ad + bc)+'0'*(n2)) + bd\n",
    "\n",
    "\n",
    "recIntMult(1234, 567)    "
   ]
  },
  {
   "cell_type": "code",
   "execution_count": 20,
   "metadata": {},
   "outputs": [
    {
     "data": {
      "text/plain": [
       "56088"
      ]
     },
     "execution_count": 20,
     "metadata": {},
     "output_type": "execute_result"
    }
   ],
   "source": [
    "def karatsuba(x, y):\n",
    "    x = str(x)\n",
    "\n",
    "karatsuba(123, 456)"
   ]
  },
  {
   "cell_type": "code",
   "execution_count": null,
   "metadata": {},
   "outputs": [],
   "source": []
  }
 ],
 "metadata": {
  "kernelspec": {
   "display_name": "Python 3",
   "language": "python",
   "name": "python3"
  },
  "language_info": {
   "codemirror_mode": {
    "name": "ipython",
    "version": 3
   },
   "file_extension": ".py",
   "mimetype": "text/x-python",
   "name": "python",
   "nbconvert_exporter": "python",
   "pygments_lexer": "ipython3",
   "version": "3.6.5"
  }
 },
 "nbformat": 4,
 "nbformat_minor": 2
}
